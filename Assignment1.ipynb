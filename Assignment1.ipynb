{
 "cells": [
  {
   "cell_type": "markdown",
   "id": "56466ba2",
   "metadata": {},
   "source": [
    "Question 1. In the below elements which of them are values or an expression? eg:- values can be integer or string and expressions will be mathematical operators.\n",
    "* \n",
    "'hello'\n",
    "-87.8\n",
    "- \n",
    "/ \n",
    "+\t\n",
    "6 \n",
    "\n",
    "Answer :  Values are -  'hello', -87.8, 6\n",
    "\n",
    "          Expression are  -  *,-,/,+\n",
    "\n",
    "\n"
   ]
  },
  {
   "cell_type": "markdown",
   "id": "41b5598f",
   "metadata": {},
   "source": [
    "\n",
    "\n",
    "Question  2. What is the difference between string and variable?\n",
    "\n",
    "Answer :String is a datatype in the python. it is written is single quote and double quote. Eg \"hello\",'Hello world!\"\n",
    "Variable are the containers to stoe the data in the python. Eg a =5,var =  \"hello\"\n",
    "\n"
   ]
  },
  {
   "cell_type": "markdown",
   "id": "f574efc1",
   "metadata": {},
   "source": [
    "Question 3. Describe three different data types.\n",
    "\n",
    "ans. Different type of data types in python are str,int, float,list,set,dict,tuple,bool.\n",
    "str - its a string type of data type.t is written is single quote and double quote. Eg \"hello\",'Hello world!\"\n",
    "int - its a integer datatype eg. a= 45.\n",
    "list - list is the container which can hold multiple item in the single container.Eg.list1  = ['apple',67, 45.5 ]\n",
    "dict - dict is the container which hold value in the key,value form. Eg dict1 = { \"key1\": 'hello',\"key2\": 'hello2'}\n"
   ]
  },
  {
   "cell_type": "markdown",
   "id": "37fbbbb3",
   "metadata": {},
   "source": [
    "Question 4. What is an expression made up of? What do all expressions do?\n",
    "\n",
    "Ans.An expression is an instruction that combines values and operators and always evaluates down to a single value.\n",
    "\n"
   ]
  },
  {
   "cell_type": "markdown",
   "id": "2fcf7a29",
   "metadata": {},
   "source": [
    "Question 5. This assignment statements, like spam = 10. What is the difference between an expression and a statement?\n",
    "\n",
    "Ans.An expression is an instruction that combines values and operators and always evaluates down to a single value.\n",
    " statement is an instruction that a Python interpreter can execute. So, in simple words, we can say anything written in Python is a statement. like spam = 10"
   ]
  },
  {
   "cell_type": "markdown",
   "id": "9cc5e562",
   "metadata": {},
   "source": [
    "'''Q 6. After running the following code, what does the variable bacon contain?\n",
    "bacon = 22\n",
    "bacon + 1'''\n",
    "\n",
    "Ans: 23"
   ]
  },
  {
   "cell_type": "code",
   "execution_count": 1,
   "id": "cda52ef4",
   "metadata": {},
   "outputs": [],
   "source": [
    "bacon = 22\n"
   ]
  },
  {
   "cell_type": "code",
   "execution_count": 2,
   "id": "5eef7e9f",
   "metadata": {},
   "outputs": [
    {
     "name": "stdout",
     "output_type": "stream",
     "text": [
      "22\n"
     ]
    }
   ],
   "source": [
    "print(bacon)"
   ]
  },
  {
   "cell_type": "code",
   "execution_count": 3,
   "id": "0ad79fc8",
   "metadata": {},
   "outputs": [
    {
     "data": {
      "text/plain": [
       "23"
      ]
     },
     "execution_count": 3,
     "metadata": {},
     "output_type": "execute_result"
    }
   ],
   "source": [
    "bacon + 1"
   ]
  },
  {
   "cell_type": "markdown",
   "id": "80fc4a36",
   "metadata": {},
   "source": [
    "'''Q 7 What should the values of the following two terms be?\n",
    "'spam' + 'spamspam'\n",
    "'spam' * 3'''\n",
    "\n",
    "Ans : 'spamspamspam' "
   ]
  },
  {
   "cell_type": "code",
   "execution_count": 4,
   "id": "47e2e2b6",
   "metadata": {},
   "outputs": [
    {
     "data": {
      "text/plain": [
       "'spamspamspam'"
      ]
     },
     "execution_count": 4,
     "metadata": {},
     "output_type": "execute_result"
    }
   ],
   "source": [
    "'spam' + 'spamspam'"
   ]
  },
  {
   "cell_type": "code",
   "execution_count": 6,
   "id": "41e780b1",
   "metadata": {},
   "outputs": [
    {
     "data": {
      "text/plain": [
       "'spamspamspam'"
      ]
     },
     "execution_count": 6,
     "metadata": {},
     "output_type": "execute_result"
    }
   ],
   "source": [
    "'spam' * 3"
   ]
  },
  {
   "cell_type": "markdown",
   "id": "2ba2f4ec",
   "metadata": {},
   "source": [
    "Q 8.Why is eggs a valid variable name while 100 is invalid?\n",
    "\n",
    "\n",
    "Ans. because we cant start variable an interger name.\n"
   ]
  },
  {
   "cell_type": "markdown",
   "id": "b0cda375",
   "metadata": {},
   "source": [
    "Q 9. What three functions can be used to get the integer, floating-point number, or string version of a value?\n",
    "Ans: three fuction are int,float,str to get the integer,floating point number and atring version of a value\n",
    "    eg."
   ]
  },
  {
   "cell_type": "code",
   "execution_count": 1,
   "id": "2b8b1e13",
   "metadata": {},
   "outputs": [
    {
     "name": "stdout",
     "output_type": "stream",
     "text": [
      "10\n",
      "10.0\n",
      "abcdef\n"
     ]
    }
   ],
   "source": [
    "a=10\n",
    "print(int(a))\n",
    "b=10\n",
    "print(float(b))\n",
    "c= \"abcdef\"\n",
    "print(str(c))"
   ]
  },
  {
   "cell_type": "code",
   "execution_count": null,
   "id": "7ab44d78",
   "metadata": {},
   "outputs": [],
   "source": [
    "Q 10. Why does this expression cause an error? How can you fix it?\n",
    "'I have eaten ' + 99 + ' burritos.'\n",
    "\n",
    "Ans.The above expression gives an typeError because string can only be concatenate with str\n",
    " we can fix it by  'I have eaten ' + '99' + ' burritos.'\n"
   ]
  },
  {
   "cell_type": "code",
   "execution_count": 11,
   "id": "1c0604cc",
   "metadata": {},
   "outputs": [
    {
     "data": {
      "text/plain": [
       "'I have eaten 99 burritos.'"
      ]
     },
     "execution_count": 11,
     "metadata": {},
     "output_type": "execute_result"
    }
   ],
   "source": [
    "'I have eaten ' + '99' + ' burritos.'"
   ]
  },
  {
   "cell_type": "code",
   "execution_count": null,
   "id": "70da9e82",
   "metadata": {},
   "outputs": [],
   "source": []
  },
  {
   "cell_type": "code",
   "execution_count": null,
   "id": "55a782b2",
   "metadata": {},
   "outputs": [],
   "source": []
  },
  {
   "cell_type": "code",
   "execution_count": null,
   "id": "85d0b099",
   "metadata": {},
   "outputs": [],
   "source": []
  }
 ],
 "metadata": {
  "kernelspec": {
   "display_name": "Python 3 (ipykernel)",
   "language": "python",
   "name": "python3"
  },
  "language_info": {
   "codemirror_mode": {
    "name": "ipython",
    "version": 3
   },
   "file_extension": ".py",
   "mimetype": "text/x-python",
   "name": "python",
   "nbconvert_exporter": "python",
   "pygments_lexer": "ipython3",
   "version": "3.9.7"
  }
 },
 "nbformat": 4,
 "nbformat_minor": 5
}
